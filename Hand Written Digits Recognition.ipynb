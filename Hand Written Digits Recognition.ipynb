{
 "cells": [
  {
   "cell_type": "code",
   "execution_count": 1,
   "metadata": {},
   "outputs": [
    {
     "data": {
      "text/plain": [
       "<Figure size 640x480 with 1 Axes>"
      ]
     },
     "metadata": {},
     "output_type": "display_data"
    },
    {
     "name": "stdout",
     "output_type": "stream",
     "text": [
      "[9]\n",
      "Accuracy :  83.69047619047619\n"
     ]
    }
   ],
   "source": [
    "import numpy as np\n",
    "import matplotlib.pyplot as pt\n",
    "import pandas as pd\n",
    "\n",
    "from sklearn.tree import DecisionTreeClassifier\n",
    "\n",
    "data = pd.read_csv(r\"C:\\Users\\TejasviniAditya\\Documents\\MachineLearning\\datasets\\train.csv\").values #as_matrix\n",
    "clf = DecisionTreeClassifier()\n",
    "\n",
    "#training dataset\n",
    "xtrain = data[0:21000,1:]\n",
    "train_label = data[0:21000,0]\n",
    "\n",
    "clf.fit(xtrain,train_label)\n",
    "\n",
    "#testing dataset\n",
    "xtest = data[21000: ,1:]\n",
    "actual_label = data[21000: ,0]\n",
    "\n",
    "d = xtest[3]\n",
    "d.shape=(28,28)\n",
    "pt.imshow(d,cmap = 'gray')\n",
    "pt.show()\n",
    "print(clf.predict([xtest[3]]))\n",
    "prediction = clf.predict(xtest)\n",
    "\n",
    "from sklearn.metrics import accuracy_score\n",
    "print(\"Accuracy : \",accuracy_score(prediction,actual_label)*100)\n"
   ]
  },
  {
   "cell_type": "code",
   "execution_count": null,
   "metadata": {},
   "outputs": [],
   "source": []
  },
  {
   "cell_type": "code",
   "execution_count": null,
   "metadata": {},
   "outputs": [],
   "source": []
  },
  {
   "cell_type": "code",
   "execution_count": null,
   "metadata": {},
   "outputs": [],
   "source": []
  },
  {
   "cell_type": "code",
   "execution_count": null,
   "metadata": {},
   "outputs": [],
   "source": []
  },
  {
   "cell_type": "code",
   "execution_count": null,
   "metadata": {},
   "outputs": [],
   "source": []
  }
 ],
 "metadata": {
  "kernelspec": {
   "display_name": "Python 3",
   "language": "python",
   "name": "python3"
  },
  "language_info": {
   "codemirror_mode": {
    "name": "ipython",
    "version": 3
   },
   "file_extension": ".py",
   "mimetype": "text/x-python",
   "name": "python",
   "nbconvert_exporter": "python",
   "pygments_lexer": "ipython3",
   "version": "3.6.5"
  }
 },
 "nbformat": 4,
 "nbformat_minor": 2
}
